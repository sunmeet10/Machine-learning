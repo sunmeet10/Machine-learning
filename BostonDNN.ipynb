{
  "nbformat": 4,
  "nbformat_minor": 0,
  "metadata": {
    "colab": {
      "name": "BostonDNN.ipynb",
      "version": "0.3.2",
      "provenance": [],
      "collapsed_sections": [],
      "include_colab_link": true
    },
    "kernelspec": {
      "name": "python3",
      "display_name": "Python 3"
    }
  },
  "cells": [
    {
      "cell_type": "markdown",
      "metadata": {
        "id": "view-in-github",
        "colab_type": "text"
      },
      "source": [
        "<a href=\"https://colab.research.google.com/github/pdhoot16/Machine-Learning/blob/master/BostonDNN.ipynb\" target=\"_parent\"><img src=\"https://colab.research.google.com/assets/colab-badge.svg\" alt=\"Open In Colab\"/></a>"
      ]
    },
    {
      "cell_type": "markdown",
      "metadata": {
        "id": "rgOPryuCPF0S",
        "colab_type": "text"
      },
      "source": [
        "<h1>Machine Learning CA2</h1>\n",
        "\n",
        "---\n",
        "\n"
      ]
    },
    {
      "cell_type": "markdown",
      "metadata": {
        "id": "jQcTLXF7tzie",
        "colab_type": "text"
      },
      "source": [
        "## **Boston Housing Price Prediction - Neural Network using TensorFlow**\n",
        "\n",
        "---\n",
        "\n"
      ]
    },
    {
      "cell_type": "markdown",
      "metadata": {
        "id": "0NAZ3zwFuFsu",
        "colab_type": "text"
      },
      "source": [
        "## **1. Import Dependencies**"
      ]
    },
    {
      "cell_type": "code",
      "metadata": {
        "id": "RNi_OMIl_vVt",
        "colab_type": "code",
        "colab": {}
      },
      "source": [
        "\n",
        "import numpy as np\n",
        "import pandas as pd\n",
        "from sklearn.datasets import load_boston\n",
        "import tensorflow as tf\n",
        "import matplotlib.pyplot as plt\n",
        "%matplotlib inline\n",
        "import random"
      ],
      "execution_count": 0,
      "outputs": []
    },
    {
      "cell_type": "markdown",
      "metadata": {
        "id": "cHL7rDgKwJze",
        "colab_type": "text"
      },
      "source": [
        "##  2. Load Dataset"
      ]
    },
    {
      "cell_type": "code",
      "metadata": {
        "id": "ItZUJSBlkOl0",
        "colab_type": "code",
        "outputId": "cbd155b2-3481-4b79-a59a-0b314f9ab0ce",
        "colab": {
          "base_uri": "https://localhost:8080/",
          "height": 34
        }
      },
      "source": [
        "boston = load_boston()\n",
        "print( \"type of boston = \", type(boston))"
      ],
      "execution_count": 0,
      "outputs": [
        {
          "output_type": "stream",
          "text": [
            "type of boston =  <class 'sklearn.utils.Bunch'>\n"
          ],
          "name": "stdout"
        }
      ]
    },
    {
      "cell_type": "code",
      "metadata": {
        "id": "lO6qa9sHEtNp",
        "colab_type": "code",
        "outputId": "c0d96a2e-6a45-4f82-a624-f7c9f96b2200",
        "colab": {
          "base_uri": "https://localhost:8080/",
          "height": 34
        }
      },
      "source": [
        "boston.keys()"
      ],
      "execution_count": 0,
      "outputs": [
        {
          "output_type": "execute_result",
          "data": {
            "text/plain": [
              "dict_keys(['data', 'target', 'feature_names', 'DESCR', 'filename'])"
            ]
          },
          "metadata": {
            "tags": []
          },
          "execution_count": 84
        }
      ]
    },
    {
      "cell_type": "code",
      "metadata": {
        "id": "0eQ465jiEvXq",
        "colab_type": "code",
        "outputId": "2576e0bf-e774-4138-f5bb-3b6b947ae770",
        "colab": {
          "base_uri": "https://localhost:8080/",
          "height": 34
        }
      },
      "source": [
        "boston.data.shape"
      ],
      "execution_count": 0,
      "outputs": [
        {
          "output_type": "execute_result",
          "data": {
            "text/plain": [
              "(506, 13)"
            ]
          },
          "metadata": {
            "tags": []
          },
          "execution_count": 85
        }
      ]
    },
    {
      "cell_type": "code",
      "metadata": {
        "id": "DBofNyMlEyec",
        "colab_type": "code",
        "outputId": "958a6859-7fd2-4feb-ed44-1be7b7bb632a",
        "colab": {
          "base_uri": "https://localhost:8080/",
          "height": 51
        }
      },
      "source": [
        "print( boston.feature_names )"
      ],
      "execution_count": 0,
      "outputs": [
        {
          "output_type": "stream",
          "text": [
            "['CRIM' 'ZN' 'INDUS' 'CHAS' 'NOX' 'RM' 'AGE' 'DIS' 'RAD' 'TAX' 'PTRATIO'\n",
            " 'B' 'LSTAT']\n"
          ],
          "name": "stdout"
        }
      ]
    },
    {
      "cell_type": "code",
      "metadata": {
        "id": "HbQ0qdK6E0Ph",
        "colab_type": "code",
        "outputId": "5da96c35-792e-45a1-e879-290ea235df60",
        "colab": {
          "base_uri": "https://localhost:8080/",
          "height": 884
        }
      },
      "source": [
        "print( boston.DESCR )"
      ],
      "execution_count": 0,
      "outputs": [
        {
          "output_type": "stream",
          "text": [
            ".. _boston_dataset:\n",
            "\n",
            "Boston house prices dataset\n",
            "---------------------------\n",
            "\n",
            "**Data Set Characteristics:**  \n",
            "\n",
            "    :Number of Instances: 506 \n",
            "\n",
            "    :Number of Attributes: 13 numeric/categorical predictive. Median Value (attribute 14) is usually the target.\n",
            "\n",
            "    :Attribute Information (in order):\n",
            "        - CRIM     per capita crime rate by town\n",
            "        - ZN       proportion of residential land zoned for lots over 25,000 sq.ft.\n",
            "        - INDUS    proportion of non-retail business acres per town\n",
            "        - CHAS     Charles River dummy variable (= 1 if tract bounds river; 0 otherwise)\n",
            "        - NOX      nitric oxides concentration (parts per 10 million)\n",
            "        - RM       average number of rooms per dwelling\n",
            "        - AGE      proportion of owner-occupied units built prior to 1940\n",
            "        - DIS      weighted distances to five Boston employment centres\n",
            "        - RAD      index of accessibility to radial highways\n",
            "        - TAX      full-value property-tax rate per $10,000\n",
            "        - PTRATIO  pupil-teacher ratio by town\n",
            "        - B        1000(Bk - 0.63)^2 where Bk is the proportion of blacks by town\n",
            "        - LSTAT    % lower status of the population\n",
            "        - MEDV     Median value of owner-occupied homes in $1000's\n",
            "\n",
            "    :Missing Attribute Values: None\n",
            "\n",
            "    :Creator: Harrison, D. and Rubinfeld, D.L.\n",
            "\n",
            "This is a copy of UCI ML housing dataset.\n",
            "https://archive.ics.uci.edu/ml/machine-learning-databases/housing/\n",
            "\n",
            "\n",
            "This dataset was taken from the StatLib library which is maintained at Carnegie Mellon University.\n",
            "\n",
            "The Boston house-price data of Harrison, D. and Rubinfeld, D.L. 'Hedonic\n",
            "prices and the demand for clean air', J. Environ. Economics & Management,\n",
            "vol.5, 81-102, 1978.   Used in Belsley, Kuh & Welsch, 'Regression diagnostics\n",
            "...', Wiley, 1980.   N.B. Various transformations are used in the table on\n",
            "pages 244-261 of the latter.\n",
            "\n",
            "The Boston house-price data has been used in many machine learning papers that address regression\n",
            "problems.   \n",
            "     \n",
            ".. topic:: References\n",
            "\n",
            "   - Belsley, Kuh & Welsch, 'Regression diagnostics: Identifying Influential Data and Sources of Collinearity', Wiley, 1980. 244-261.\n",
            "   - Quinlan,R. (1993). Combining Instance-Based and Model-Based Learning. In Proceedings on the Tenth International Conference of Machine Learning, 236-243, University of Massachusetts, Amherst. Morgan Kaufmann.\n",
            "\n"
          ],
          "name": "stdout"
        }
      ]
    },
    {
      "cell_type": "markdown",
      "metadata": {
        "id": "c8B8NuROwxFf",
        "colab_type": "text"
      },
      "source": [
        "## 3. Seperate Data into Features and Labels and load them as a Pandas Dataframe"
      ]
    },
    {
      "cell_type": "markdown",
      "metadata": {
        "id": "gqiWjlPaw0kq",
        "colab_type": "text"
      },
      "source": [
        "### 3.1 Features"
      ]
    },
    {
      "cell_type": "code",
      "metadata": {
        "id": "FLfT-TdEjSQg",
        "colab_type": "code",
        "outputId": "a1b8fe4a-476f-4d46-9705-529106a623df",
        "colab": {
          "base_uri": "https://localhost:8080/",
          "height": 204
        }
      },
      "source": [
        "features_df = pd.DataFrame(np.array(boston.data), columns=[boston.feature_names])\n",
        "features_df.head()"
      ],
      "execution_count": 0,
      "outputs": [
        {
          "output_type": "execute_result",
          "data": {
            "text/html": [
              "<div>\n",
              "<style scoped>\n",
              "    .dataframe tbody tr th:only-of-type {\n",
              "        vertical-align: middle;\n",
              "    }\n",
              "\n",
              "    .dataframe tbody tr th {\n",
              "        vertical-align: top;\n",
              "    }\n",
              "\n",
              "    .dataframe thead tr th {\n",
              "        text-align: left;\n",
              "    }\n",
              "</style>\n",
              "<table border=\"1\" class=\"dataframe\">\n",
              "  <thead>\n",
              "    <tr>\n",
              "      <th></th>\n",
              "      <th>CRIM</th>\n",
              "      <th>ZN</th>\n",
              "      <th>INDUS</th>\n",
              "      <th>CHAS</th>\n",
              "      <th>NOX</th>\n",
              "      <th>RM</th>\n",
              "      <th>AGE</th>\n",
              "      <th>DIS</th>\n",
              "      <th>RAD</th>\n",
              "      <th>TAX</th>\n",
              "      <th>PTRATIO</th>\n",
              "      <th>B</th>\n",
              "      <th>LSTAT</th>\n",
              "    </tr>\n",
              "  </thead>\n",
              "  <tbody>\n",
              "    <tr>\n",
              "      <th>0</th>\n",
              "      <td>0.00632</td>\n",
              "      <td>18.0</td>\n",
              "      <td>2.31</td>\n",
              "      <td>0.0</td>\n",
              "      <td>0.538</td>\n",
              "      <td>6.575</td>\n",
              "      <td>65.2</td>\n",
              "      <td>4.0900</td>\n",
              "      <td>1.0</td>\n",
              "      <td>296.0</td>\n",
              "      <td>15.3</td>\n",
              "      <td>396.90</td>\n",
              "      <td>4.98</td>\n",
              "    </tr>\n",
              "    <tr>\n",
              "      <th>1</th>\n",
              "      <td>0.02731</td>\n",
              "      <td>0.0</td>\n",
              "      <td>7.07</td>\n",
              "      <td>0.0</td>\n",
              "      <td>0.469</td>\n",
              "      <td>6.421</td>\n",
              "      <td>78.9</td>\n",
              "      <td>4.9671</td>\n",
              "      <td>2.0</td>\n",
              "      <td>242.0</td>\n",
              "      <td>17.8</td>\n",
              "      <td>396.90</td>\n",
              "      <td>9.14</td>\n",
              "    </tr>\n",
              "    <tr>\n",
              "      <th>2</th>\n",
              "      <td>0.02729</td>\n",
              "      <td>0.0</td>\n",
              "      <td>7.07</td>\n",
              "      <td>0.0</td>\n",
              "      <td>0.469</td>\n",
              "      <td>7.185</td>\n",
              "      <td>61.1</td>\n",
              "      <td>4.9671</td>\n",
              "      <td>2.0</td>\n",
              "      <td>242.0</td>\n",
              "      <td>17.8</td>\n",
              "      <td>392.83</td>\n",
              "      <td>4.03</td>\n",
              "    </tr>\n",
              "    <tr>\n",
              "      <th>3</th>\n",
              "      <td>0.03237</td>\n",
              "      <td>0.0</td>\n",
              "      <td>2.18</td>\n",
              "      <td>0.0</td>\n",
              "      <td>0.458</td>\n",
              "      <td>6.998</td>\n",
              "      <td>45.8</td>\n",
              "      <td>6.0622</td>\n",
              "      <td>3.0</td>\n",
              "      <td>222.0</td>\n",
              "      <td>18.7</td>\n",
              "      <td>394.63</td>\n",
              "      <td>2.94</td>\n",
              "    </tr>\n",
              "    <tr>\n",
              "      <th>4</th>\n",
              "      <td>0.06905</td>\n",
              "      <td>0.0</td>\n",
              "      <td>2.18</td>\n",
              "      <td>0.0</td>\n",
              "      <td>0.458</td>\n",
              "      <td>7.147</td>\n",
              "      <td>54.2</td>\n",
              "      <td>6.0622</td>\n",
              "      <td>3.0</td>\n",
              "      <td>222.0</td>\n",
              "      <td>18.7</td>\n",
              "      <td>396.90</td>\n",
              "      <td>5.33</td>\n",
              "    </tr>\n",
              "  </tbody>\n",
              "</table>\n",
              "</div>"
            ],
            "text/plain": [
              "      CRIM    ZN INDUS CHAS    NOX  ...  RAD    TAX PTRATIO       B LSTAT\n",
              "0  0.00632  18.0  2.31  0.0  0.538  ...  1.0  296.0    15.3  396.90  4.98\n",
              "1  0.02731   0.0  7.07  0.0  0.469  ...  2.0  242.0    17.8  396.90  9.14\n",
              "2  0.02729   0.0  7.07  0.0  0.469  ...  2.0  242.0    17.8  392.83  4.03\n",
              "3  0.03237   0.0  2.18  0.0  0.458  ...  3.0  222.0    18.7  394.63  2.94\n",
              "4  0.06905   0.0  2.18  0.0  0.458  ...  3.0  222.0    18.7  396.90  5.33\n",
              "\n",
              "[5 rows x 13 columns]"
            ]
          },
          "metadata": {
            "tags": []
          },
          "execution_count": 88
        }
      ]
    },
    {
      "cell_type": "markdown",
      "metadata": {
        "id": "rbCNcZCUw-aj",
        "colab_type": "text"
      },
      "source": [
        "### 3.2 Labels"
      ]
    },
    {
      "cell_type": "code",
      "metadata": {
        "id": "9uOsyh_SeZPi",
        "colab_type": "code",
        "outputId": "20ae73f0-e755-4ea0-8128-bcc74da04b2a",
        "colab": {
          "base_uri": "https://localhost:8080/",
          "height": 204
        }
      },
      "source": [
        "labels_df = pd.DataFrame(np.array(boston.target), columns=['labels'])\n",
        "labels_df.head()"
      ],
      "execution_count": 0,
      "outputs": [
        {
          "output_type": "execute_result",
          "data": {
            "text/html": [
              "<div>\n",
              "<style scoped>\n",
              "    .dataframe tbody tr th:only-of-type {\n",
              "        vertical-align: middle;\n",
              "    }\n",
              "\n",
              "    .dataframe tbody tr th {\n",
              "        vertical-align: top;\n",
              "    }\n",
              "\n",
              "    .dataframe thead th {\n",
              "        text-align: right;\n",
              "    }\n",
              "</style>\n",
              "<table border=\"1\" class=\"dataframe\">\n",
              "  <thead>\n",
              "    <tr style=\"text-align: right;\">\n",
              "      <th></th>\n",
              "      <th>labels</th>\n",
              "    </tr>\n",
              "  </thead>\n",
              "  <tbody>\n",
              "    <tr>\n",
              "      <th>0</th>\n",
              "      <td>24.0</td>\n",
              "    </tr>\n",
              "    <tr>\n",
              "      <th>1</th>\n",
              "      <td>21.6</td>\n",
              "    </tr>\n",
              "    <tr>\n",
              "      <th>2</th>\n",
              "      <td>34.7</td>\n",
              "    </tr>\n",
              "    <tr>\n",
              "      <th>3</th>\n",
              "      <td>33.4</td>\n",
              "    </tr>\n",
              "    <tr>\n",
              "      <th>4</th>\n",
              "      <td>36.2</td>\n",
              "    </tr>\n",
              "  </tbody>\n",
              "</table>\n",
              "</div>"
            ],
            "text/plain": [
              "   labels\n",
              "0    24.0\n",
              "1    21.6\n",
              "2    34.7\n",
              "3    33.4\n",
              "4    36.2"
            ]
          },
          "metadata": {
            "tags": []
          },
          "execution_count": 89
        }
      ]
    },
    {
      "cell_type": "markdown",
      "metadata": {
        "id": "N6IkEbPYxE6Y",
        "colab_type": "text"
      },
      "source": [
        "### 3.3 Combined Data"
      ]
    },
    {
      "cell_type": "code",
      "metadata": {
        "id": "TlfIlTRirF7m",
        "colab_type": "code",
        "outputId": "835f049c-6c90-4ff4-cb35-bee6f355a7e8",
        "colab": {
          "base_uri": "https://localhost:8080/",
          "height": 204
        }
      },
      "source": [
        "combined_data = pd.concat([features_df,labels_df], axis=1)\n",
        "combined_data.head()"
      ],
      "execution_count": 0,
      "outputs": [
        {
          "output_type": "execute_result",
          "data": {
            "text/html": [
              "<div>\n",
              "<style scoped>\n",
              "    .dataframe tbody tr th:only-of-type {\n",
              "        vertical-align: middle;\n",
              "    }\n",
              "\n",
              "    .dataframe tbody tr th {\n",
              "        vertical-align: top;\n",
              "    }\n",
              "\n",
              "    .dataframe thead th {\n",
              "        text-align: right;\n",
              "    }\n",
              "</style>\n",
              "<table border=\"1\" class=\"dataframe\">\n",
              "  <thead>\n",
              "    <tr style=\"text-align: right;\">\n",
              "      <th></th>\n",
              "      <th>(CRIM,)</th>\n",
              "      <th>(ZN,)</th>\n",
              "      <th>(INDUS,)</th>\n",
              "      <th>(CHAS,)</th>\n",
              "      <th>(NOX,)</th>\n",
              "      <th>(RM,)</th>\n",
              "      <th>(AGE,)</th>\n",
              "      <th>(DIS,)</th>\n",
              "      <th>(RAD,)</th>\n",
              "      <th>(TAX,)</th>\n",
              "      <th>(PTRATIO,)</th>\n",
              "      <th>(B,)</th>\n",
              "      <th>(LSTAT,)</th>\n",
              "      <th>labels</th>\n",
              "    </tr>\n",
              "  </thead>\n",
              "  <tbody>\n",
              "    <tr>\n",
              "      <th>0</th>\n",
              "      <td>0.00632</td>\n",
              "      <td>18.0</td>\n",
              "      <td>2.31</td>\n",
              "      <td>0.0</td>\n",
              "      <td>0.538</td>\n",
              "      <td>6.575</td>\n",
              "      <td>65.2</td>\n",
              "      <td>4.0900</td>\n",
              "      <td>1.0</td>\n",
              "      <td>296.0</td>\n",
              "      <td>15.3</td>\n",
              "      <td>396.90</td>\n",
              "      <td>4.98</td>\n",
              "      <td>24.0</td>\n",
              "    </tr>\n",
              "    <tr>\n",
              "      <th>1</th>\n",
              "      <td>0.02731</td>\n",
              "      <td>0.0</td>\n",
              "      <td>7.07</td>\n",
              "      <td>0.0</td>\n",
              "      <td>0.469</td>\n",
              "      <td>6.421</td>\n",
              "      <td>78.9</td>\n",
              "      <td>4.9671</td>\n",
              "      <td>2.0</td>\n",
              "      <td>242.0</td>\n",
              "      <td>17.8</td>\n",
              "      <td>396.90</td>\n",
              "      <td>9.14</td>\n",
              "      <td>21.6</td>\n",
              "    </tr>\n",
              "    <tr>\n",
              "      <th>2</th>\n",
              "      <td>0.02729</td>\n",
              "      <td>0.0</td>\n",
              "      <td>7.07</td>\n",
              "      <td>0.0</td>\n",
              "      <td>0.469</td>\n",
              "      <td>7.185</td>\n",
              "      <td>61.1</td>\n",
              "      <td>4.9671</td>\n",
              "      <td>2.0</td>\n",
              "      <td>242.0</td>\n",
              "      <td>17.8</td>\n",
              "      <td>392.83</td>\n",
              "      <td>4.03</td>\n",
              "      <td>34.7</td>\n",
              "    </tr>\n",
              "    <tr>\n",
              "      <th>3</th>\n",
              "      <td>0.03237</td>\n",
              "      <td>0.0</td>\n",
              "      <td>2.18</td>\n",
              "      <td>0.0</td>\n",
              "      <td>0.458</td>\n",
              "      <td>6.998</td>\n",
              "      <td>45.8</td>\n",
              "      <td>6.0622</td>\n",
              "      <td>3.0</td>\n",
              "      <td>222.0</td>\n",
              "      <td>18.7</td>\n",
              "      <td>394.63</td>\n",
              "      <td>2.94</td>\n",
              "      <td>33.4</td>\n",
              "    </tr>\n",
              "    <tr>\n",
              "      <th>4</th>\n",
              "      <td>0.06905</td>\n",
              "      <td>0.0</td>\n",
              "      <td>2.18</td>\n",
              "      <td>0.0</td>\n",
              "      <td>0.458</td>\n",
              "      <td>7.147</td>\n",
              "      <td>54.2</td>\n",
              "      <td>6.0622</td>\n",
              "      <td>3.0</td>\n",
              "      <td>222.0</td>\n",
              "      <td>18.7</td>\n",
              "      <td>396.90</td>\n",
              "      <td>5.33</td>\n",
              "      <td>36.2</td>\n",
              "    </tr>\n",
              "  </tbody>\n",
              "</table>\n",
              "</div>"
            ],
            "text/plain": [
              "   (CRIM,)  (ZN,)  (INDUS,)  (CHAS,)  ...  (PTRATIO,)    (B,)  (LSTAT,)  labels\n",
              "0  0.00632   18.0      2.31      0.0  ...        15.3  396.90      4.98    24.0\n",
              "1  0.02731    0.0      7.07      0.0  ...        17.8  396.90      9.14    21.6\n",
              "2  0.02729    0.0      7.07      0.0  ...        17.8  392.83      4.03    34.7\n",
              "3  0.03237    0.0      2.18      0.0  ...        18.7  394.63      2.94    33.4\n",
              "4  0.06905    0.0      2.18      0.0  ...        18.7  396.90      5.33    36.2\n",
              "\n",
              "[5 rows x 14 columns]"
            ]
          },
          "metadata": {
            "tags": []
          },
          "execution_count": 90
        }
      ]
    },
    {
      "cell_type": "markdown",
      "metadata": {
        "id": "h2mnEjSexKFR",
        "colab_type": "text"
      },
      "source": [
        "## 4. Train Test Split"
      ]
    },
    {
      "cell_type": "markdown",
      "metadata": {
        "id": "rzdTJPgOxUSd",
        "colab_type": "text"
      },
      "source": [
        "### 4.1 Import Library"
      ]
    },
    {
      "cell_type": "code",
      "metadata": {
        "id": "FBqkq_d2kBUF",
        "colab_type": "code",
        "colab": {}
      },
      "source": [
        "from sklearn.model_selection import train_test_split"
      ],
      "execution_count": 0,
      "outputs": []
    },
    {
      "cell_type": "markdown",
      "metadata": {
        "id": "bnHwZebjxdFJ",
        "colab_type": "text"
      },
      "source": [
        "### 4.2  Train Test Split\n",
        "### Training Data = 80% of Dataset\n",
        "### Test Data = 20% of Dataset"
      ]
    },
    {
      "cell_type": "code",
      "metadata": {
        "id": "Dxe16roeqzn-",
        "colab_type": "code",
        "colab": {}
      },
      "source": [
        "random.seed( 1000 )\n",
        "X_train, X_test, y_train, y_test = train_test_split(features_df, labels_df, test_size=0.2)"
      ],
      "execution_count": 0,
      "outputs": []
    },
    {
      "cell_type": "markdown",
      "metadata": {
        "id": "JXvOWicKxptn",
        "colab_type": "text"
      },
      "source": [
        "## 5. Data Pre-Processing"
      ]
    },
    {
      "cell_type": "markdown",
      "metadata": {
        "id": "wZQsiPTzyQfq",
        "colab_type": "text"
      },
      "source": [
        "### 5.1 Import Library"
      ]
    },
    {
      "cell_type": "code",
      "metadata": {
        "id": "j_WIOB7Jq3Z2",
        "colab_type": "code",
        "colab": {}
      },
      "source": [
        "from sklearn.preprocessing import StandardScaler"
      ],
      "execution_count": 0,
      "outputs": []
    },
    {
      "cell_type": "markdown",
      "metadata": {
        "id": "L5qwIerq1_cj",
        "colab_type": "text"
      },
      "source": [
        "### 5.2 Train Data"
      ]
    },
    {
      "cell_type": "markdown",
      "metadata": {
        "id": "szJcpXyRxzu0",
        "colab_type": "text"
      },
      "source": [
        "### 5.2.1  Define the Preprocessing Method and Fit Training Data to it"
      ]
    },
    {
      "cell_type": "code",
      "metadata": {
        "id": "qg70RxwBtxLV",
        "colab_type": "code",
        "outputId": "dbefb6c3-461a-4258-f63c-b86a1d7f3d47",
        "colab": {
          "base_uri": "https://localhost:8080/",
          "height": 34
        }
      },
      "source": [
        "scaler = StandardScaler()\n",
        "scaler.fit(X_train)"
      ],
      "execution_count": 0,
      "outputs": [
        {
          "output_type": "execute_result",
          "data": {
            "text/plain": [
              "StandardScaler(copy=True, with_mean=True, with_std=True)"
            ]
          },
          "metadata": {
            "tags": []
          },
          "execution_count": 94
        }
      ]
    },
    {
      "cell_type": "markdown",
      "metadata": {
        "id": "72aSgNscyroE",
        "colab_type": "text"
      },
      "source": [
        "### 5.2.2. Make X_train to be the Scaled Version of Data\n",
        "#### This process scales all the values in all 6 columns and replaces them with the new values"
      ]
    },
    {
      "cell_type": "code",
      "metadata": {
        "id": "da9CvIVzt0hs",
        "colab_type": "code",
        "colab": {}
      },
      "source": [
        "X_train = pd.DataFrame(data=scaler.transform(X_train), columns=X_train.columns, index=X_train.index)"
      ],
      "execution_count": 0,
      "outputs": []
    },
    {
      "cell_type": "markdown",
      "metadata": {
        "id": "NumUzEVLzUQG",
        "colab_type": "text"
      },
      "source": [
        "### 5.2.3. Converting from Pandas Dataframe to Numpy Arrays"
      ]
    },
    {
      "cell_type": "code",
      "metadata": {
        "id": "FePa_Sf0q67V",
        "colab_type": "code",
        "colab": {}
      },
      "source": [
        "X_train = np.array(X_train)\n",
        "y_train = np.array(y_train)"
      ],
      "execution_count": 0,
      "outputs": []
    },
    {
      "cell_type": "markdown",
      "metadata": {
        "id": "oQHx3ya002Ui",
        "colab_type": "text"
      },
      "source": [
        "### 5.2.4. Get the Type of Training Data"
      ]
    },
    {
      "cell_type": "code",
      "metadata": {
        "id": "oVshZuE5q3bL",
        "colab_type": "code",
        "outputId": "bb8d96e9-e333-4cc6-acb3-383e8157d733",
        "colab": {
          "base_uri": "https://localhost:8080/",
          "height": 34
        }
      },
      "source": [
        "type(X_train), type(y_train)"
      ],
      "execution_count": 0,
      "outputs": [
        {
          "output_type": "execute_result",
          "data": {
            "text/plain": [
              "(numpy.ndarray, numpy.ndarray)"
            ]
          },
          "metadata": {
            "tags": []
          },
          "execution_count": 97
        }
      ]
    },
    {
      "cell_type": "markdown",
      "metadata": {
        "id": "bbda58CZ1A0o",
        "colab_type": "text"
      },
      "source": [
        "### 5.3. Test Data"
      ]
    },
    {
      "cell_type": "markdown",
      "metadata": {
        "id": "2L0PQ1vv2inC",
        "colab_type": "text"
      },
      "source": [
        "### 5.3.1 Define the Preprocessing Method and Fit Test Data to it"
      ]
    },
    {
      "cell_type": "code",
      "metadata": {
        "id": "7OO2HVl1q6N5",
        "colab_type": "code",
        "outputId": "7991ed7b-8534-4c58-fc37-420278ffa893",
        "colab": {
          "base_uri": "https://localhost:8080/",
          "height": 34
        }
      },
      "source": [
        "scal = StandardScaler()\n",
        "scal.fit(X_test)"
      ],
      "execution_count": 0,
      "outputs": [
        {
          "output_type": "execute_result",
          "data": {
            "text/plain": [
              "StandardScaler(copy=True, with_mean=True, with_std=True)"
            ]
          },
          "metadata": {
            "tags": []
          },
          "execution_count": 98
        }
      ]
    },
    {
      "cell_type": "markdown",
      "metadata": {
        "id": "p8Rsx1d01Jx1",
        "colab_type": "text"
      },
      "source": [
        "### 5.3.2. Make X_test to be the Scaled Version of Data\n",
        "#### This process scales all the values in all columns and replaces them with the new values"
      ]
    },
    {
      "cell_type": "code",
      "metadata": {
        "id": "yyxYSS23eblQ",
        "colab_type": "code",
        "colab": {}
      },
      "source": [
        "X_test = pd.DataFrame(data=scal.transform(X_test), columns=X_test.columns, index=X_test.index)"
      ],
      "execution_count": 0,
      "outputs": []
    },
    {
      "cell_type": "markdown",
      "metadata": {
        "id": "NHQwJWeh1Y5B",
        "colab_type": "text"
      },
      "source": [
        "### 5.3.3. Converting from Pandas Dataframe to Numpy Arrays"
      ]
    },
    {
      "cell_type": "code",
      "metadata": {
        "id": "6FpqYE8d_5Qr",
        "colab_type": "code",
        "colab": {}
      },
      "source": [
        "X_test = np.array(X_test)\n",
        "y_test = np.array(y_test)"
      ],
      "execution_count": 0,
      "outputs": []
    },
    {
      "cell_type": "markdown",
      "metadata": {
        "id": "LiXzuaSh1ks1",
        "colab_type": "text"
      },
      "source": [
        "### 5.3.4. Get the Type of Test Data"
      ]
    },
    {
      "cell_type": "code",
      "metadata": {
        "id": "uotNbM9TsE4J",
        "colab_type": "code",
        "outputId": "862b57c9-7fb7-43bf-c724-601bfea2bf77",
        "colab": {
          "base_uri": "https://localhost:8080/",
          "height": 34
        }
      },
      "source": [
        "type(X_test), type(y_test)"
      ],
      "execution_count": 0,
      "outputs": [
        {
          "output_type": "execute_result",
          "data": {
            "text/plain": [
              "(numpy.ndarray, numpy.ndarray)"
            ]
          },
          "metadata": {
            "tags": []
          },
          "execution_count": 101
        }
      ]
    },
    {
      "cell_type": "markdown",
      "metadata": {
        "id": "7RbZwrXw1pWk",
        "colab_type": "text"
      },
      "source": [
        "### 5.4. Define Feature Columns"
      ]
    },
    {
      "cell_type": "code",
      "metadata": {
        "id": "DeUtxvlOudFe",
        "colab_type": "code",
        "outputId": "cd84a9a2-4f00-4cce-d129-2f7d1912e641",
        "colab": {
          "base_uri": "https://localhost:8080/",
          "height": 51
        }
      },
      "source": [
        "features_df.columns"
      ],
      "execution_count": 0,
      "outputs": [
        {
          "output_type": "execute_result",
          "data": {
            "text/plain": [
              "MultiIndex(levels=[['AGE', 'B', 'CHAS', 'CRIM', 'DIS', 'INDUS', 'LSTAT', 'NOX', 'PTRATIO', 'RAD', 'RM', 'TAX', 'ZN']],\n",
              "           codes=[[3, 12, 5, 2, 7, 10, 0, 4, 9, 11, 8, 1, 6]])"
            ]
          },
          "metadata": {
            "tags": []
          },
          "execution_count": 102
        }
      ]
    },
    {
      "cell_type": "code",
      "metadata": {
        "id": "_Q6vBlPbo3v6",
        "colab_type": "code",
        "colab": {}
      },
      "source": [
        "# Make Feature Columns\n",
        "feat_cols = [tf.feature_column.numeric_column('x', shape=np.array(X_train).shape[1:])]"
      ],
      "execution_count": 0,
      "outputs": []
    },
    {
      "cell_type": "markdown",
      "metadata": {
        "id": "0yxzzzYQ3zZA",
        "colab_type": "text"
      },
      "source": [
        "### 5.5. Define Input Fuction"
      ]
    },
    {
      "cell_type": "code",
      "metadata": {
        "id": "ltTJmpQx3vml",
        "colab_type": "code",
        "colab": {}
      },
      "source": [
        "input_func = tf.estimator.inputs.numpy_input_fn({'x':X_train}, y_train, batch_size=1, num_epochs=2000, shuffle=True)"
      ],
      "execution_count": 0,
      "outputs": []
    },
    {
      "cell_type": "markdown",
      "metadata": {
        "id": "4j843dxx4E2l",
        "colab_type": "text"
      },
      "source": [
        "### 5.6. Set up Estimator Training Inputs"
      ]
    },
    {
      "cell_type": "code",
      "metadata": {
        "id": "SycfqyANooau",
        "colab_type": "code",
        "colab": {}
      },
      "source": [
        "train_input_func = tf.estimator.inputs.numpy_input_fn(X_train, y_train, batch_size=1, num_epochs=1000, shuffle=False)"
      ],
      "execution_count": 0,
      "outputs": []
    },
    {
      "cell_type": "markdown",
      "metadata": {
        "id": "JdMvuA7H4PhQ",
        "colab_type": "text"
      },
      "source": [
        "### 5.7. Set up Estimator Test Inputs"
      ]
    },
    {
      "cell_type": "code",
      "metadata": {
        "id": "98jdiOdpn93l",
        "colab_type": "code",
        "colab": {}
      },
      "source": [
        "eval_input_func = tf.estimator.inputs.numpy_input_fn({'x': X_test}, y_test, batch_size=1, num_epochs=1, shuffle=False)"
      ],
      "execution_count": 0,
      "outputs": []
    },
    {
      "cell_type": "markdown",
      "metadata": {
        "id": "52ZW_Ya94VpS",
        "colab_type": "text"
      },
      "source": [
        "## 6. Build Model\n",
        "\n",
        "### 6.1. Define DNN Regressor Model"
      ]
    },
    {
      "cell_type": "code",
      "metadata": {
        "id": "SD6FGMnxqMlw",
        "colab_type": "code",
        "outputId": "36689756-2e2f-43dd-d05f-71d3227dd665",
        "colab": {
          "base_uri": "https://localhost:8080/",
          "height": 190
        }
      },
      "source": [
        "dnn_model = tf.estimator.DNNRegressor(hidden_units=[5,3],feature_columns=feat_cols, optimizer='Adam')"
      ],
      "execution_count": 0,
      "outputs": [
        {
          "output_type": "stream",
          "text": [
            "INFO:tensorflow:Using default config.\n",
            "WARNING:tensorflow:Using temporary folder as model directory: /tmp/tmp0lt4x_9g\n",
            "INFO:tensorflow:Using config: {'_model_dir': '/tmp/tmp0lt4x_9g', '_tf_random_seed': None, '_save_summary_steps': 100, '_save_checkpoints_steps': None, '_save_checkpoints_secs': 600, '_session_config': allow_soft_placement: true\n",
            "graph_options {\n",
            "  rewrite_options {\n",
            "    meta_optimizer_iterations: ONE\n",
            "  }\n",
            "}\n",
            ", '_keep_checkpoint_max': 5, '_keep_checkpoint_every_n_hours': 10000, '_log_step_count_steps': 100, '_train_distribute': None, '_device_fn': None, '_protocol': None, '_eval_distribute': None, '_experimental_distribute': None, '_service': None, '_cluster_spec': <tensorflow.python.training.server_lib.ClusterSpec object at 0x7fdf3bba65c0>, '_task_type': 'worker', '_task_id': 0, '_global_id_in_cluster': 0, '_master': '', '_evaluation_master': '', '_is_chief': True, '_num_ps_replicas': 0, '_num_worker_replicas': 1}\n"
          ],
          "name": "stdout"
        }
      ]
    },
    {
      "cell_type": "markdown",
      "metadata": {
        "id": "uyQarjeZ4jYR",
        "colab_type": "text"
      },
      "source": [
        "### 6.2. Train the DNN Regressor Estimator"
      ]
    },
    {
      "cell_type": "code",
      "metadata": {
        "id": "uStdiTnUCBiW",
        "colab_type": "code",
        "outputId": "e614ed97-b4a0-4ed1-d18b-9227f9534187",
        "colab": {
          "base_uri": "https://localhost:8080/",
          "height": 850
        }
      },
      "source": [
        "dnn_model.train(input_fn=input_func, steps=2000)"
      ],
      "execution_count": 0,
      "outputs": [
        {
          "output_type": "stream",
          "text": [
            "INFO:tensorflow:Calling model_fn.\n",
            "INFO:tensorflow:Done calling model_fn.\n",
            "INFO:tensorflow:Create CheckpointSaverHook.\n",
            "INFO:tensorflow:Graph was finalized.\n",
            "INFO:tensorflow:Running local_init_op.\n",
            "INFO:tensorflow:Done running local_init_op.\n",
            "INFO:tensorflow:Saving checkpoints for 0 into /tmp/tmpbz_6adrj/model.ckpt.\n",
            "INFO:tensorflow:loss = 195.28731, step = 1\n",
            "INFO:tensorflow:global_step/sec: 337.552\n",
            "INFO:tensorflow:loss = 5.864019, step = 101 (0.298 sec)\n",
            "INFO:tensorflow:global_step/sec: 801.141\n",
            "INFO:tensorflow:loss = 0.5043886, step = 201 (0.124 sec)\n",
            "INFO:tensorflow:global_step/sec: 805.564\n",
            "INFO:tensorflow:loss = 14.865559, step = 301 (0.126 sec)\n",
            "INFO:tensorflow:global_step/sec: 758.423\n",
            "INFO:tensorflow:loss = 170.58736, step = 401 (0.137 sec)\n",
            "INFO:tensorflow:global_step/sec: 766.213\n",
            "INFO:tensorflow:loss = 25.104078, step = 501 (0.125 sec)\n",
            "INFO:tensorflow:global_step/sec: 797.304\n",
            "INFO:tensorflow:loss = 4.119842, step = 601 (0.127 sec)\n",
            "INFO:tensorflow:global_step/sec: 813.794\n",
            "INFO:tensorflow:loss = 14.805736, step = 701 (0.121 sec)\n",
            "INFO:tensorflow:global_step/sec: 827.403\n",
            "INFO:tensorflow:loss = 0.20141724, step = 801 (0.125 sec)\n",
            "INFO:tensorflow:global_step/sec: 794.388\n",
            "INFO:tensorflow:loss = 15.068495, step = 901 (0.122 sec)\n",
            "INFO:tensorflow:global_step/sec: 801.585\n",
            "INFO:tensorflow:loss = 11.841125, step = 1001 (0.128 sec)\n",
            "INFO:tensorflow:global_step/sec: 818.222\n",
            "INFO:tensorflow:loss = 31.416073, step = 1101 (0.119 sec)\n",
            "INFO:tensorflow:global_step/sec: 799.407\n",
            "INFO:tensorflow:loss = 27.011967, step = 1201 (0.125 sec)\n",
            "INFO:tensorflow:global_step/sec: 819.767\n",
            "INFO:tensorflow:loss = 49.311474, step = 1301 (0.127 sec)\n",
            "INFO:tensorflow:global_step/sec: 814.449\n",
            "INFO:tensorflow:loss = 0.060679536, step = 1401 (0.118 sec)\n",
            "INFO:tensorflow:global_step/sec: 797.411\n",
            "INFO:tensorflow:loss = 4.8440495, step = 1501 (0.126 sec)\n",
            "INFO:tensorflow:global_step/sec: 784.243\n",
            "INFO:tensorflow:loss = 14.180951, step = 1601 (0.127 sec)\n",
            "INFO:tensorflow:global_step/sec: 776.059\n",
            "INFO:tensorflow:loss = 29.966368, step = 1701 (0.133 sec)\n",
            "INFO:tensorflow:global_step/sec: 842.615\n",
            "INFO:tensorflow:loss = 29.35017, step = 1801 (0.114 sec)\n",
            "INFO:tensorflow:global_step/sec: 827.168\n",
            "INFO:tensorflow:loss = 8.930486, step = 1901 (0.122 sec)\n",
            "INFO:tensorflow:Saving checkpoints for 2000 into /tmp/tmpbz_6adrj/model.ckpt.\n",
            "INFO:tensorflow:Loss for final step: 2.3468356.\n"
          ],
          "name": "stdout"
        },
        {
          "output_type": "execute_result",
          "data": {
            "text/plain": [
              "<tensorflow_estimator.python.estimator.canned.dnn.DNNRegressor at 0x7fdf34b03e10>"
            ]
          },
          "metadata": {
            "tags": []
          },
          "execution_count": 108
        }
      ]
    },
    {
      "cell_type": "markdown",
      "metadata": {
        "id": "9cNwDf6S4qOb",
        "colab_type": "text"
      },
      "source": [
        "## 7. Evaluate the Model"
      ]
    },
    {
      "cell_type": "code",
      "metadata": {
        "id": "0PCIKwAJCFY2",
        "colab_type": "code",
        "outputId": "89a320e8-728c-40e3-8aeb-53bc6cdc1211",
        "colab": {
          "base_uri": "https://localhost:8080/",
          "height": 272
        }
      },
      "source": [
        "dnn_model.evaluate(input_fn=eval_input_func)"
      ],
      "execution_count": 0,
      "outputs": [
        {
          "output_type": "stream",
          "text": [
            "INFO:tensorflow:Calling model_fn.\n",
            "INFO:tensorflow:Done calling model_fn.\n",
            "INFO:tensorflow:Starting evaluation at 2019-05-23T00:59:05Z\n",
            "INFO:tensorflow:Graph was finalized.\n",
            "INFO:tensorflow:Restoring parameters from /tmp/tmpbz_6adrj/model.ckpt-2000\n",
            "INFO:tensorflow:Running local_init_op.\n",
            "INFO:tensorflow:Done running local_init_op.\n",
            "INFO:tensorflow:Finished evaluation at 2019-05-23-00:59:06\n",
            "INFO:tensorflow:Saving dict for global step 2000: average_loss = 34.133728, global_step = 2000, label/mean = 23.318632, loss = 34.133728, prediction/mean = 20.322952\n",
            "INFO:tensorflow:Saving 'checkpoint_path' summary for global step 2000: /tmp/tmpbz_6adrj/model.ckpt-2000\n"
          ],
          "name": "stdout"
        },
        {
          "output_type": "execute_result",
          "data": {
            "text/plain": [
              "{'average_loss': 34.133728,\n",
              " 'global_step': 2000,\n",
              " 'label/mean': 23.318632,\n",
              " 'loss': 34.133728,\n",
              " 'prediction/mean': 20.322952}"
            ]
          },
          "metadata": {
            "tags": []
          },
          "execution_count": 109
        }
      ]
    },
    {
      "cell_type": "markdown",
      "metadata": {
        "id": "HOrx8vV-4tzT",
        "colab_type": "text"
      },
      "source": [
        "### 7.1. Predictions"
      ]
    },
    {
      "cell_type": "code",
      "metadata": {
        "id": "_UCQeQSFCKFN",
        "colab_type": "code",
        "colab": {}
      },
      "source": [
        "predictions = dnn_model.predict(input_fn=eval_input_func)"
      ],
      "execution_count": 0,
      "outputs": []
    },
    {
      "cell_type": "code",
      "metadata": {
        "id": "bDe1qN81CM0n",
        "colab_type": "code",
        "outputId": "01759dc9-c807-4240-9ce3-7f9525e94b89",
        "colab": {
          "base_uri": "https://localhost:8080/",
          "height": 119
        }
      },
      "source": [
        "pred = list(predictions)"
      ],
      "execution_count": 0,
      "outputs": [
        {
          "output_type": "stream",
          "text": [
            "INFO:tensorflow:Calling model_fn.\n",
            "INFO:tensorflow:Done calling model_fn.\n",
            "INFO:tensorflow:Graph was finalized.\n",
            "INFO:tensorflow:Restoring parameters from /tmp/tmpbz_6adrj/model.ckpt-2000\n",
            "INFO:tensorflow:Running local_init_op.\n",
            "INFO:tensorflow:Done running local_init_op.\n"
          ],
          "name": "stdout"
        }
      ]
    },
    {
      "cell_type": "markdown",
      "metadata": {
        "id": "3D5WOri85OP9",
        "colab_type": "text"
      },
      "source": [
        "### 7.2. Get Predicted Values"
      ]
    },
    {
      "cell_type": "code",
      "metadata": {
        "id": "8JOcHJznCRTs",
        "colab_type": "code",
        "outputId": "8e9774ab-6d63-4064-8b2f-6bfaaa8b01c6",
        "colab": {
          "base_uri": "https://localhost:8080/",
          "height": 119
        }
      },
      "source": [
        "predicted_vals = []\n",
        "\n",
        "for pred in dnn_model.predict(input_fn=eval_input_func):\n",
        "    predicted_vals.append(pred['predictions'])"
      ],
      "execution_count": 0,
      "outputs": [
        {
          "output_type": "stream",
          "text": [
            "INFO:tensorflow:Calling model_fn.\n",
            "INFO:tensorflow:Done calling model_fn.\n",
            "INFO:tensorflow:Graph was finalized.\n",
            "INFO:tensorflow:Restoring parameters from /tmp/tmpbz_6adrj/model.ckpt-2000\n",
            "INFO:tensorflow:Running local_init_op.\n",
            "INFO:tensorflow:Done running local_init_op.\n"
          ],
          "name": "stdout"
        }
      ]
    },
    {
      "cell_type": "code",
      "metadata": {
        "id": "Eo6QvSxzCSjV",
        "colab_type": "code",
        "outputId": "63164e5d-373e-42aa-f487-316447db5685",
        "colab": {
          "base_uri": "https://localhost:8080/",
          "height": 54
        }
      },
      "source": [
        "print(predicted_vals)"
      ],
      "execution_count": 0,
      "outputs": [
        {
          "output_type": "stream",
          "text": [
            "[array([20.360134], dtype=float32), array([30.279732], dtype=float32), array([11.304831], dtype=float32), array([24.471317], dtype=float32), array([36.50297], dtype=float32), array([21.998325], dtype=float32), array([18.527538], dtype=float32), array([17.21916], dtype=float32), array([21.1609], dtype=float32), array([17.617434], dtype=float32), array([27.942719], dtype=float32), array([32.17539], dtype=float32), array([18.20903], dtype=float32), array([33.45327], dtype=float32), array([17.927814], dtype=float32), array([16.2692], dtype=float32), array([16.143616], dtype=float32), array([15.779915], dtype=float32), array([15.00259], dtype=float32), array([21.332397], dtype=float32), array([35.041054], dtype=float32), array([21.425468], dtype=float32), array([16.106365], dtype=float32), array([16.836987], dtype=float32), array([27.753185], dtype=float32), array([11.304831], dtype=float32), array([11.304831], dtype=float32), array([21.411331], dtype=float32), array([20.783821], dtype=float32), array([28.137001], dtype=float32), array([29.983429], dtype=float32), array([22.898392], dtype=float32), array([29.683853], dtype=float32), array([21.19971], dtype=float32), array([15.47495], dtype=float32), array([17.360863], dtype=float32), array([36.569393], dtype=float32), array([24.430664], dtype=float32), array([18.912632], dtype=float32), array([11.304831], dtype=float32), array([17.00987], dtype=float32), array([21.346699], dtype=float32), array([11.304831], dtype=float32), array([25.270382], dtype=float32), array([37.803352], dtype=float32), array([28.2308], dtype=float32), array([15.944268], dtype=float32), array([30.825562], dtype=float32), array([24.154305], dtype=float32), array([17.79208], dtype=float32), array([17.076122], dtype=float32), array([26.3191], dtype=float32), array([26.312195], dtype=float32), array([15.015777], dtype=float32), array([11.304831], dtype=float32), array([11.596397], dtype=float32), array([13.943676], dtype=float32), array([21.438156], dtype=float32), array([33.970287], dtype=float32), array([13.024145], dtype=float32), array([22.640583], dtype=float32), array([19.823238], dtype=float32), array([11.304831], dtype=float32), array([30.274044], dtype=float32), array([17.51056], dtype=float32), array([11.304831], dtype=float32), array([15.672522], dtype=float32), array([12.549763], dtype=float32), array([16.832703], dtype=float32), array([11.304831], dtype=float32), array([14.983534], dtype=float32), array([22.00388], dtype=float32), array([24.159855], dtype=float32), array([23.067108], dtype=float32), array([11.304831], dtype=float32), array([11.966854], dtype=float32), array([11.304831], dtype=float32), array([12.907822], dtype=float32), array([31.878887], dtype=float32), array([20.80082], dtype=float32), array([11.419305], dtype=float32), array([20.659214], dtype=float32), array([11.304831], dtype=float32), array([12.615946], dtype=float32), array([43.721733], dtype=float32), array([13.220403], dtype=float32), array([15.474188], dtype=float32), array([11.531363], dtype=float32), array([11.304831], dtype=float32), array([18.840475], dtype=float32), array([19.564785], dtype=float32), array([29.215294], dtype=float32), array([25.5671], dtype=float32), array([19.184538], dtype=float32), array([18.119457], dtype=float32), array([20.471272], dtype=float32), array([22.632607], dtype=float32), array([14.849994], dtype=float32), array([25.289886], dtype=float32), array([20.232609], dtype=float32), array([25.935104], dtype=float32), array([16.905148], dtype=float32)]\n"
          ],
          "name": "stdout"
        }
      ]
    },
    {
      "cell_type": "markdown",
      "metadata": {
        "id": "14yAOFXG5XLv",
        "colab_type": "text"
      },
      "source": [
        "## 8. Performance Evalution\n",
        "\n",
        "### 8.1 Import Library"
      ]
    },
    {
      "cell_type": "code",
      "metadata": {
        "id": "GYik0htsCWgd",
        "colab_type": "code",
        "colab": {}
      },
      "source": [
        "from sklearn.metrics import mean_squared_error\n"
      ],
      "execution_count": 0,
      "outputs": []
    },
    {
      "cell_type": "markdown",
      "metadata": {
        "id": "ftpPr6gF5qWr",
        "colab_type": "text"
      },
      "source": [
        "### 8.2. Calculate the Mean Squared Error"
      ]
    },
    {
      "cell_type": "code",
      "metadata": {
        "id": "Ii3pxOz_5pvm",
        "colab_type": "code",
        "outputId": "dbae7189-4bbf-40a0-8611-b2626a63f46f",
        "colab": {
          "base_uri": "https://localhost:8080/",
          "height": 34
        }
      },
      "source": [
        "mse = mean_squared_error(predicted_vals, y_test)\n",
        "print('Mean Squared Error [DNNRegrssor]: ',mse)"
      ],
      "execution_count": 0,
      "outputs": [
        {
          "output_type": "stream",
          "text": [
            "Mean Squared Error [DNNRegrssor]:  34.133724020313245\n"
          ],
          "name": "stdout"
        }
      ]
    },
    {
      "cell_type": "markdown",
      "metadata": {
        "id": "Tqs_ZMOzzeZS",
        "colab_type": "text"
      },
      "source": [
        "##  9. Improve the Performance by changing Parameters\n",
        "\n",
        "### 9.1.  Redefine DNN Regressor Model"
      ]
    },
    {
      "cell_type": "code",
      "metadata": {
        "id": "HUIHQQE7WBaN",
        "colab_type": "code",
        "colab": {}
      },
      "source": [
        "dnn_model_imp = tf.estimator.DNNRegressor(hidden_units=[10,5,3],feature_columns=feat_cols, optimizer=tf.train.ProximalAdagradOptimizer(\n",
        "      learning_rate=0.1,l1_regularization_strength=0.001))"
      ],
      "execution_count": 0,
      "outputs": []
    },
    {
      "cell_type": "markdown",
      "metadata": {
        "id": "OvxTxFA76AlU",
        "colab_type": "text"
      },
      "source": [
        " ### 9.2. Re-train the DNN Regressor Estimator"
      ]
    },
    {
      "cell_type": "code",
      "metadata": {
        "id": "XgA87wxZrsWl",
        "colab_type": "code",
        "colab": {}
      },
      "source": [
        "dnn_model_imp.train(input_fn=input_func, steps=2000)"
      ],
      "execution_count": 0,
      "outputs": []
    },
    {
      "cell_type": "markdown",
      "metadata": {
        "id": "uI10nvHa6HAC",
        "colab_type": "text"
      },
      "source": [
        "### 9.3. Re-evaluate the Model"
      ]
    },
    {
      "cell_type": "code",
      "metadata": {
        "id": "Q_RWbko7r1Xz",
        "colab_type": "code",
        "colab": {}
      },
      "source": [
        "dnn_model_imp.evaluate(input_fn=eval_input_func)"
      ],
      "execution_count": 0,
      "outputs": []
    },
    {
      "cell_type": "markdown",
      "metadata": {
        "id": "WnPOUtS06L5k",
        "colab_type": "text"
      },
      "source": [
        "### 9.4. New Predictions"
      ]
    },
    {
      "cell_type": "code",
      "metadata": {
        "id": "vaEcCQhXr5ky",
        "colab_type": "code",
        "colab": {}
      },
      "source": [
        "new_predictions = dnn_model_imp.predict(input_fn=eval_input_func)"
      ],
      "execution_count": 0,
      "outputs": []
    },
    {
      "cell_type": "code",
      "metadata": {
        "id": "kNcnMh7er_NO",
        "colab_type": "code",
        "colab": {}
      },
      "source": [
        "new_pred = list(new_predictions)"
      ],
      "execution_count": 0,
      "outputs": []
    },
    {
      "cell_type": "markdown",
      "metadata": {
        "id": "NKesZ7O46SNP",
        "colab_type": "text"
      },
      "source": [
        "### 9.5. New Predicted values"
      ]
    },
    {
      "cell_type": "code",
      "metadata": {
        "id": "4kgsit2fsEA3",
        "colab_type": "code",
        "colab": {}
      },
      "source": [
        "new_predicted_vals = []\n",
        "\n",
        "for new_pred in dnn_model_imp.predict(input_fn=eval_input_func):\n",
        "    new_predicted_vals.append(new_pred['predictions'])"
      ],
      "execution_count": 0,
      "outputs": []
    },
    {
      "cell_type": "code",
      "metadata": {
        "id": "bC-hdJNqsOms",
        "colab_type": "code",
        "colab": {}
      },
      "source": [
        "print(new_predicted_vals)"
      ],
      "execution_count": 0,
      "outputs": []
    },
    {
      "cell_type": "markdown",
      "metadata": {
        "id": "MHi_72Yw6dlz",
        "colab_type": "text"
      },
      "source": [
        "### 9.6. Re-calculate the Mean Squared Error"
      ]
    },
    {
      "cell_type": "code",
      "metadata": {
        "id": "h6yNAKprsSYc",
        "colab_type": "code",
        "outputId": "67c543dc-a0a9-470c-883c-496a75686786",
        "colab": {
          "base_uri": "https://localhost:8080/",
          "height": 34
        }
      },
      "source": [
        "new_mse = mean_squared_error(new_predicted_vals, y_test)\n",
        "print('Improved Mean Squared Error [DNNRegrssor]: ',new_mse)"
      ],
      "execution_count": 0,
      "outputs": [
        {
          "output_type": "stream",
          "text": [
            "Improved Mean Squared Error [DNNRegrssor]:  17.8268982643602\n"
          ],
          "name": "stdout"
        }
      ]
    },
    {
      "cell_type": "markdown",
      "metadata": {
        "id": "8V_7btCO6kZG",
        "colab_type": "text"
      },
      "source": [
        "## 10. Compare Performace"
      ]
    },
    {
      "cell_type": "code",
      "metadata": {
        "id": "iNYhGDn9v4G5",
        "colab_type": "code",
        "outputId": "4e1f5ead-8eed-47fc-aa29-b4f383e15a86",
        "colab": {
          "base_uri": "https://localhost:8080/",
          "height": 51
        }
      },
      "source": [
        "print('Old Mean Squared Error: ',mse)\n",
        "print('New Mean Squared Error: ',new_mse)"
      ],
      "execution_count": 0,
      "outputs": [
        {
          "output_type": "stream",
          "text": [
            "Old Mean Squared Error:  34.133724020313245\n",
            "New Mean Squared Error:  17.8268982643602\n"
          ],
          "name": "stdout"
        }
      ]
    },
    {
      "cell_type": "markdown",
      "metadata": {
        "id": "OMc60gB2o3_w",
        "colab_type": "text"
      },
      "source": [
        "## 11. Plot Actual vs Predicted Housing Price"
      ]
    },
    {
      "cell_type": "code",
      "metadata": {
        "id": "mOhwZL0ONeFG",
        "colab_type": "code",
        "outputId": "e945a215-3322-4442-9095-610f722cae57",
        "colab": {
          "base_uri": "https://localhost:8080/",
          "height": 312
        }
      },
      "source": [
        "import matplotlib.pyplot as plt\n",
        "%matplotlib inline\n",
        "plt.scatter( new_predicted_vals, y_test, s=5 )\n",
        "plt.xlabel( \"Predicted Prices\")\n",
        "plt.ylabel( \"Real Prices\")\n",
        "plt.title( \"Real vs Predicted Housing Prices\")"
      ],
      "execution_count": 0,
      "outputs": [
        {
          "output_type": "execute_result",
          "data": {
            "text/plain": [
              "Text(0.5, 1.0, 'Real vs Predicted Housing Prices')"
            ]
          },
          "metadata": {
            "tags": []
          },
          "execution_count": 134
        },
        {
          "output_type": "display_data",
          "data": {
            "image/png": "[encoded data removed]",
            "text/plain": [
              "<Figure size 432x288 with 1 Axes>"
            ]
          },
          "metadata": {
            "tags": []
          }
        }
      ]
    }
  ]
}